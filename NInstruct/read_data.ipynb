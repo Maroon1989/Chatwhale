{
 "cells": [
  {
   "cell_type": "code",
   "execution_count": 1,
   "metadata": {},
   "outputs": [],
   "source": [
    "import pandas as pd\n",
    "import numpy as np\n",
    "import pickle\n",
    "import os"
   ]
  },
  {
   "cell_type": "code",
   "execution_count": 3,
   "metadata": {},
   "outputs": [
    {
     "data": {
      "text/plain": [
       "{'title': '糖醋排骨的做法',\n",
       " 'description': '我这个糖醋汁有点偏酸哦，不喜欢酸的可以稍放点水，或者比例改成醋是2.5但是醋在加热的时候是可以挥发的哦……做菜好吃都有技巧，我的每道菜都有小妙招，大家搜索“豆果”可以直接查看我的菜谱！',\n",
       " 'title_img': 'https://cp1.douguo.com/upload/caiku/e/b/2/690x390_eb200dbc811a87eb5735144cb3c313a2.jpg',\n",
       " 'id': '/cookbook/1090083.html',\n",
       " 'steps': [{'description': '排骨先用水嘲一遍，水中放入少许盐，沸水下肉，水开一遍捞出排骨，捞出后用冷水冲净。',\n",
       "   'img': 'https://cp1.douguo.com/upload/caiku/0/8/d/200_0876abee498ce094e1b1ab288b38c49d.jpg'},\n",
       "  {'description': '接下来无敌糖醋秘方来啦，料酒，酱油，糖，醋，清水的比例是1:2:3:4:5，比如说一勺，就是料酒一勺，酱油两勺，糖三勺，醋四勺，水五勺。我用的是宜家的大勺。',\n",
       "   'img': 'https://cp1.douguo.com/upload/caiku/f/6/6/200_f601ad0c445cc9604af1fd7a9e208ae6.jpg'},\n",
       "  {'description': '锅内热油，放入姜，蒜爆香。',\n",
       "   'img': 'https://cp1.douguo.com/upload/caiku/1/d/d/200_1dee0453634239ecb95b4622de2bc6bd.jpg'},\n",
       "  {'description': '加入排骨翻炒，底油可以稍微多一点，翻炒大概五分钟。',\n",
       "   'img': 'https://cp1.douguo.com/upload/caiku/d/a/b/200_dae902cef88dec820052103fb92090eb.jpg'},\n",
       "  {'description': '加入糖醋汁，大火烧开，转小火，炖到汁干为止。',\n",
       "   'img': 'https://cp1.douguo.com/upload/caiku/3/4/0/200_346ae376dd2214baffb633fda99036b0.jpg'},\n",
       "  {'description': '快来，喂你啊。',\n",
       "   'img': 'https://cp1.douguo.com/upload/caiku/d/a/b/200_dabfc3024db3ccc15f88eaf21d952e1b.jpg'}],\n",
       " 'comment': [],\n",
       " 'url': 'https://www.douguo.com/cookbook/1090083.html',\n",
       " 'title_img_type': 'img',\n",
       " 'components': {'主料': [{'排骨': '1000g'},\n",
       "   {'料酒': '1勺'},\n",
       "   {'酱油': '2勺'},\n",
       "   {'糖': '3勺'},\n",
       "   {'醋': '4勺'},\n",
       "   {'清水': '5勺'},\n",
       "   {'盐': '1小勺'},\n",
       "   {'蒜': '1瓣'},\n",
       "   {'姜': '1块'}]}}"
      ]
     },
     "execution_count": 3,
     "metadata": {},
     "output_type": "execute_result"
    }
   ],
   "source": [
    "# data = pickle.load(r'D:\\Lamda\\LLM\\NInstruct1\\douguo_data\\_cookbook_1090083.html.pkl')\n",
    "# data\n",
    "with open(r'D:\\Lamda\\LLM\\NInstruct1\\douguo_data\\_cookbook_1090083.html.pkl', \"rb\") as file:\n",
    "        loaded_data = pickle.load(file)\n",
    "loaded_data"
   ]
  },
  {
   "cell_type": "code",
   "execution_count": 5,
   "metadata": {},
   "outputs": [
    {
     "data": {
      "text/plain": [
       "str"
      ]
     },
     "execution_count": 5,
     "metadata": {},
     "output_type": "execute_result"
    }
   ],
   "source": [
    "data = pd.read_excel(r'D:\\一些比赛\\citi2024\\Chatwhale\\NInstruct\\data\\AB股代码.xlsx')\n",
    "type(data['证券名称'][0])"
   ]
  }
 ],
 "metadata": {
  "kernelspec": {
   "display_name": "Python 3",
   "language": "python",
   "name": "python3"
  },
  "language_info": {
   "codemirror_mode": {
    "name": "ipython",
    "version": 3
   },
   "file_extension": ".py",
   "mimetype": "text/x-python",
   "name": "python",
   "nbconvert_exporter": "python",
   "pygments_lexer": "ipython3",
   "version": "3.9.2rc1"
  }
 },
 "nbformat": 4,
 "nbformat_minor": 2
}
